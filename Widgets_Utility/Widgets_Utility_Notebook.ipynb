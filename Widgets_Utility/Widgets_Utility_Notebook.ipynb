{
 "cells": [
  {
   "cell_type": "markdown",
   "metadata": {
    "application/vnd.databricks.v1+cell": {
     "cellMetadata": {
      "byteLimit": 2048000,
      "rowLimit": 10000
     },
     "inputWidgets": {},
     "nuid": "79bc5817-9f86-4b1b-b2a6-50869c1566fb",
     "showTitle": false,
     "title": ""
    }
   },
   "source": [
    "##Widgets Utility\n",
    "#### The widgets utility allow you to parameterize notebooks\n"
   ]
  },
  {
   "cell_type": "code",
   "execution_count": 0,
   "metadata": {
    "application/vnd.databricks.v1+cell": {
     "cellMetadata": {
      "byteLimit": 2048000,
      "rowLimit": 10000
     },
     "inputWidgets": {},
     "nuid": "d4557bbf-4e3c-457d-95a0-ce297502ffb9",
     "showTitle": false,
     "title": ""
    }
   },
   "outputs": [
    {
     "output_type": "display_data",
     "data": {
      "text/html": [
       "<div class = \"ansiout\"><b>dbutils.widgets</b> provides utilities for working with notebook widgets. You can create\n",
       "different types of widgets and get their bound value.\n",
       "\n",
       "For more info about a method, use <b>dbutils.widgets.help(\"methodName\")</b>.\n",
       "    <h3></h3><b>combobox(name: String, defaultValue: String, choices: Seq, label: String): void</b> -> Creates a combobox input widget with a given name, default value and choices<br /><b>dropdown(name: String, defaultValue: String, choices: Seq, label: String): void</b> -> Creates a dropdown input widget a with given name, default value and choices<br /><b>get(name: String): String</b> -> Retrieves current value of an input widget<br /><b>getArgument(name: String, optional: String): String</b> -> (DEPRECATED) Equivalent to get<br /><b>multiselect(name: String, defaultValue: String, choices: Seq, label: String): void</b> -> Creates a multiselect input widget with a given name, default value and choices<br /><b>remove(name: String): void</b> -> Removes an input widget from the notebook<br /><b>removeAll: void</b> -> Removes all widgets in the notebook<br /><b>text(name: String, defaultValue: String, label: String): void</b> -> Creates a text input widget with a given name and default value<br /><br /></div>"
      ]
     },
     "metadata": {
      "application/vnd.databricks.v1+output": {
       "addedWidgets": {},
       "arguments": {},
       "data": "<div class = \"ansiout\"><b>dbutils.widgets</b> provides utilities for working with notebook widgets. You can create\ndifferent types of widgets and get their bound value.\n\nFor more info about a method, use <b>dbutils.widgets.help(\"methodName\")</b>.\n    <h3></h3><b>combobox(name: String, defaultValue: String, choices: Seq, label: String): void</b> -> Creates a combobox input widget with a given name, default value and choices<br /><b>dropdown(name: String, defaultValue: String, choices: Seq, label: String): void</b> -> Creates a dropdown input widget a with given name, default value and choices<br /><b>get(name: String): String</b> -> Retrieves current value of an input widget<br /><b>getArgument(name: String, optional: String): String</b> -> (DEPRECATED) Equivalent to get<br /><b>multiselect(name: String, defaultValue: String, choices: Seq, label: String): void</b> -> Creates a multiselect input widget with a given name, default value and choices<br /><b>remove(name: String): void</b> -> Removes an input widget from the notebook<br /><b>removeAll: void</b> -> Removes all widgets in the notebook<br /><b>text(name: String, defaultValue: String, label: String): void</b> -> Creates a text input widget with a given name and default value<br /><br /></div>",
       "datasetInfos": [],
       "metadata": {},
       "removedWidgets": [],
       "textData": null,
       "type": "htmlSandbox"
      }
     },
     "output_type": "display_data"
    }
   ],
   "source": [
    "#Run this cell to know more about the widgets utility\n",
    "dbutils.widgets.help()\n",
    "#From the below output pay attention to the word \"Creates\" only these widgets will let create widgets"
   ]
  },
  {
   "cell_type": "markdown",
   "metadata": {
    "application/vnd.databricks.v1+cell": {
     "cellMetadata": {
      "byteLimit": 2048000,
      "rowLimit": 10000
     },
     "inputWidgets": {},
     "nuid": "40071b51-217e-4b94-87c8-1a611af5edd8",
     "showTitle": false,
     "title": ""
    }
   },
   "source": [
    "##1:combobox widget\n",
    "####combobox(name: String, defaultValue: String, choices: Seq, label: String): void -> Creates a combobox input widget with a given name, default value and choices\n",
    "\n",
    "\n",
    "\n",
    "\n",
    " "
   ]
  },
  {
   "cell_type": "code",
   "execution_count": 0,
   "metadata": {
    "application/vnd.databricks.v1+cell": {
     "cellMetadata": {
      "byteLimit": 2048000,
      "rowLimit": 10000
     },
     "inputWidgets": {},
     "nuid": "6fcfdff2-f32a-43bd-81cf-35e62c18f768",
     "showTitle": false,
     "title": ""
    }
   },
   "outputs": [],
   "source": [
    "#lets create a first widget \"combobox\" \n",
    "dbutils.widgets.combobox(\"Combobox\",\"This will be the default value if you don't provide anything\",['Red','Yellow','Green'],\"Please select a color bro!\")"
   ]
  },
  {
   "cell_type": "code",
   "execution_count": 0,
   "metadata": {
    "application/vnd.databricks.v1+cell": {
     "cellMetadata": {
      "byteLimit": 2048000,
      "rowLimit": 10000
     },
     "inputWidgets": {},
     "nuid": "fd97e3cc-aaa0-4ac8-a143-4448bda8e662",
     "showTitle": false,
     "title": ""
    }
   },
   "outputs": [
    {
     "output_type": "stream",
     "name": "stdout",
     "output_type": "stream",
     "text": [
      "Yellow\n"
     ]
    }
   ],
   "source": [
    "#Select some value from the top left corner combobox and run this cell. The selected value will be printed below\n",
    "#The get function is used to get the value selected or passed in the widget by passing the name of the widget as argument\n",
    "combobox_choice=dbutils.widgets.get('Combobox')\n",
    "print(combobox_choice)"
   ]
  },
  {
   "cell_type": "markdown",
   "metadata": {
    "application/vnd.databricks.v1+cell": {
     "cellMetadata": {
      "byteLimit": 2048000,
      "rowLimit": 10000
     },
     "inputWidgets": {},
     "nuid": "e9e1323c-f1b4-484f-86e3-fd0b62fbfbba",
     "showTitle": false,
     "title": ""
    }
   },
   "source": [
    "##2:dropdown widget\n",
    "####dropdown(name: String, defaultValue: String, choices: Seq, label: String): void -> Creates a dropdown input widget a with given name, default value and choices"
   ]
  },
  {
   "cell_type": "code",
   "execution_count": 0,
   "metadata": {
    "application/vnd.databricks.v1+cell": {
     "cellMetadata": {
      "byteLimit": 2048000,
      "rowLimit": 10000
     },
     "inputWidgets": {},
     "nuid": "88d8882f-6994-45c4-ace0-4be974aedb0b",
     "showTitle": false,
     "title": ""
    }
   },
   "outputs": [],
   "source": [
    "#Note here the default value should be one of the values from the choices otherwise it will throw error\n",
    "dbutils.widgets.dropdown(name='Mydropdown',defaultValue='Red',choices=['Red','Orange'],label='Could you please select a color')"
   ]
  },
  {
   "cell_type": "code",
   "execution_count": 0,
   "metadata": {
    "application/vnd.databricks.v1+cell": {
     "cellMetadata": {
      "byteLimit": 2048000,
      "rowLimit": 10000
     },
     "inputWidgets": {},
     "nuid": "538f6158-a776-4e52-8edd-01ab510cfd11",
     "showTitle": false,
     "title": ""
    }
   },
   "outputs": [
    {
     "output_type": "stream",
     "name": "stdout",
     "output_type": "stream",
     "text": [
      "Red\n"
     ]
    }
   ],
   "source": [
    "dropdown_value=dbutils.widgets.get('Mydropdown')\n",
    "print(dropdown_value)"
   ]
  },
  {
   "cell_type": "markdown",
   "metadata": {
    "application/vnd.databricks.v1+cell": {
     "cellMetadata": {
      "byteLimit": 2048000,
      "rowLimit": 10000
     },
     "inputWidgets": {},
     "nuid": "9cc735a5-da98-4613-a093-288664c5f146",
     "showTitle": false,
     "title": ""
    }
   },
   "source": [
    "##3:multiselect widget\n",
    "####multiselect(name: String, defaultValue: String, choices: Seq, label: String): void -> Creates a multiselect input widget with a given name, default value and choices\n"
   ]
  },
  {
   "cell_type": "code",
   "execution_count": 0,
   "metadata": {
    "application/vnd.databricks.v1+cell": {
     "cellMetadata": {
      "byteLimit": 2048000,
      "rowLimit": 10000
     },
     "inputWidgets": {},
     "nuid": "cb771dd6-53c2-47ad-82eb-749313566f41",
     "showTitle": false,
     "title": ""
    }
   },
   "outputs": [],
   "source": [
    "#multiselect lets you select one or more values\n",
    "dbutils.widgets.multiselect('multiselect','Pink',['Pink','Blue','Black'],'Select one or more color bro')"
   ]
  },
  {
   "cell_type": "code",
   "execution_count": 0,
   "metadata": {
    "application/vnd.databricks.v1+cell": {
     "cellMetadata": {
      "byteLimit": 2048000,
      "rowLimit": 10000
     },
     "inputWidgets": {},
     "nuid": "cb03d0b1-0cce-4037-b1b1-a67a3a496464",
     "showTitle": false,
     "title": ""
    }
   },
   "outputs": [
    {
     "output_type": "stream",
     "name": "stdout",
     "output_type": "stream",
     "text": [
      "Pink,Blue,Black\n"
     ]
    }
   ],
   "source": [
    "print(dbutils.widgets.get('multiselect'))"
   ]
  },
  {
   "cell_type": "markdown",
   "metadata": {
    "application/vnd.databricks.v1+cell": {
     "cellMetadata": {
      "byteLimit": 2048000,
      "rowLimit": 10000
     },
     "inputWidgets": {},
     "nuid": "bbc029c4-1734-475e-9190-ad1befd61477",
     "showTitle": false,
     "title": ""
    }
   },
   "source": [
    "##4:text widget\n",
    "####text(name: String, defaultValue: String, label: String): void -> Creates a text input widget with a given name and default value"
   ]
  },
  {
   "cell_type": "code",
   "execution_count": 0,
   "metadata": {
    "application/vnd.databricks.v1+cell": {
     "cellMetadata": {
      "byteLimit": 2048000,
      "rowLimit": 10000
     },
     "inputWidgets": {},
     "nuid": "ecff941c-e65e-4074-ac6e-6b488a6c2e34",
     "showTitle": false,
     "title": ""
    }
   },
   "outputs": [],
   "source": [
    "#the text widget lets you enter some text value here you have a choices as argument\n",
    "dbutils.widgets.text('Textbox','This is a default value','Which one is your favorite color bro')"
   ]
  },
  {
   "cell_type": "code",
   "execution_count": 0,
   "metadata": {
    "application/vnd.databricks.v1+cell": {
     "cellMetadata": {
      "byteLimit": 2048000,
      "rowLimit": 10000
     },
     "inputWidgets": {},
     "nuid": "a7ad45fd-63e5-4363-be1f-80039875751d",
     "showTitle": false,
     "title": ""
    }
   },
   "outputs": [
    {
     "output_type": "stream",
     "name": "stdout",
     "output_type": "stream",
     "text": [
      "This is a default value\n"
     ]
    }
   ],
   "source": [
    "text=dbutils.widgets.get('Textbox')\n",
    "print(text)"
   ]
  },
  {
   "cell_type": "code",
   "execution_count": 0,
   "metadata": {
    "application/vnd.databricks.v1+cell": {
     "cellMetadata": {
      "byteLimit": 2048000,
      "rowLimit": 10000
     },
     "inputWidgets": {},
     "nuid": "949496f2-76ff-4b11-af78-f476d062eace",
     "showTitle": false,
     "title": ""
    }
   },
   "outputs": [],
   "source": [
    "dbutils.notebook.exit(\"Lets say you press the run all button so this command will stop this notebook here and won't run the below cells to prevent you from removing all the widgets. Feel free to run the below cells to remove the widgets if u want to!!!!\")"
   ]
  },
  {
   "cell_type": "markdown",
   "metadata": {
    "application/vnd.databricks.v1+cell": {
     "cellMetadata": {
      "byteLimit": 2048000,
      "rowLimit": 10000
     },
     "inputWidgets": {},
     "nuid": "74c411f2-ede4-4907-8936-4019a6fbaf40",
     "showTitle": false,
     "title": ""
    }
   },
   "source": [
    "#### lets remove a widget using remove funtion "
   ]
  },
  {
   "cell_type": "code",
   "execution_count": 0,
   "metadata": {
    "application/vnd.databricks.v1+cell": {
     "cellMetadata": {
      "byteLimit": 2048000,
      "rowLimit": 10000
     },
     "inputWidgets": {},
     "nuid": "04e2daed-639f-48b7-be55-1dd75a079b19",
     "showTitle": false,
     "title": ""
    }
   },
   "outputs": [],
   "source": [
    "#Pass the name in remove function to remove a widget from above \n",
    "dbutils.widgets.remove(\"Textbox\")"
   ]
  },
  {
   "cell_type": "code",
   "execution_count": 0,
   "metadata": {
    "application/vnd.databricks.v1+cell": {
     "cellMetadata": {
      "byteLimit": 2048000,
      "rowLimit": 10000
     },
     "inputWidgets": {},
     "nuid": "4ddc0bd8-116f-4b9d-8e64-e5dc75387f98",
     "showTitle": false,
     "title": ""
    }
   },
   "outputs": [],
   "source": [
    "#Just run this command and all the widgets will be vanished\n",
    "dbutils.widgets.removeAll()"
   ]
  }
 ],
 "metadata": {
  "application/vnd.databricks.v1+notebook": {
   "dashboards": [],
   "environmentMetadata": null,
   "language": "python",
   "notebookMetadata": {
    "pythonIndentUnit": 4
   },
   "notebookName": "Widgets_Utility_Notebook",
   "widgets": {
    "Combobox": {
     "currentValue": "Yellow",
     "nuid": "30338829-78b6-464d-90fb-404829383c6b",
     "typedWidgetInfo": null,
     "widgetInfo": {
      "widgetType": "combobox",
      "defaultValue": "This will be the default value if you don't provide anything",
      "label": "Please select a color bro!",
      "name": "Combobox",
      "options": {
       "widgetType": "dropdown",
       "autoCreated": null,
       "choices": [
        "Red",
        "Yellow",
        "Green"
       ]
      }
     }
    },
    "Mydropdown": {
     "currentValue": "Red",
     "nuid": "b7e381c7-0fe5-4000-97f5-b1c696bf7ff1",
     "typedWidgetInfo": null,
     "widgetInfo": {
      "widgetType": "dropdown",
      "defaultValue": "Red",
      "label": "Could you please select a color",
      "name": "Mydropdown",
      "options": {
       "widgetType": "dropdown",
       "autoCreated": null,
       "choices": [
        "Red",
        "Orange"
       ]
      }
     }
    },
    "Textbox": {
     "currentValue": "This is a default value",
     "nuid": "dcf72f38-9004-4bc9-ae34-786758c2e6ab",
     "typedWidgetInfo": null,
     "widgetInfo": {
      "widgetType": "text",
      "defaultValue": "This is a default value",
      "label": "Which one is your favorite color bro",
      "name": "Textbox",
      "options": {
       "widgetType": "text",
       "autoCreated": null,
       "validationRegex": null
      }
     }
    },
    "multiselect": {
     "currentValue": "Pink,Blue,Black",
     "nuid": "7f7aa520-f0d7-430a-b680-06dab0862f65",
     "typedWidgetInfo": null,
     "widgetInfo": {
      "widgetType": "multiselect",
      "defaultValue": "Pink",
      "label": "Select one or more color bro",
      "name": "multiselect",
      "options": {
       "widgetType": "dropdown",
       "autoCreated": null,
       "choices": [
        "Pink",
        "Blue",
        "Black"
       ]
      }
     }
    }
   }
  }
 },
 "nbformat": 4,
 "nbformat_minor": 0
}
